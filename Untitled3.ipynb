{
  "nbformat": 4,
  "nbformat_minor": 0,
  "metadata": {
    "colab": {
      "name": "Untitled3.ipynb",
      "provenance": [],
      "authorship_tag": "ABX9TyOheOPgP3k4jeBUFrtsKmRM",
      "include_colab_link": true
    },
    "kernelspec": {
      "name": "python3",
      "display_name": "Python 3"
    },
    "language_info": {
      "name": "python"
    }
  },
  "cells": [
    {
      "cell_type": "markdown",
      "metadata": {
        "id": "view-in-github",
        "colab_type": "text"
      },
      "source": [
        "<a href=\"https://colab.research.google.com/github/youngha20/jweather/blob/main/Untitled3.ipynb\" target=\"_parent\"><img src=\"https://colab.research.google.com/assets/colab-badge.svg\" alt=\"Open In Colab\"/></a>"
      ]
    },
    {
      "cell_type": "code",
      "metadata": {
        "colab": {
          "base_uri": "https://localhost:8080/"
        },
        "id": "gxyy1Fl8LWSM",
        "outputId": "982efb0c-667a-4d4d-c56a-3f8ea895c5ee"
      },
      "source": [
        "print(3+5)"
      ],
      "execution_count": null,
      "outputs": [
        {
          "output_type": "stream",
          "text": [
            "8\n"
          ],
          "name": "stdout"
        }
      ]
    },
    {
      "cell_type": "code",
      "metadata": {
        "id": "RF2yJJ3KLtVi",
        "colab": {
          "base_uri": "https://localhost:8080/"
        },
        "outputId": "22bc4f96-4b58-41bf-b1fd-72726dc53566"
      },
      "source": [
        "print(3*7)\n",
        "print(3-1)\n",
        "print(5*100)"
      ],
      "execution_count": null,
      "outputs": [
        {
          "output_type": "stream",
          "text": [
            "21\n",
            "2\n",
            "500\n"
          ],
          "name": "stdout"
        }
      ]
    },
    {
      "cell_type": "code",
      "metadata": {
        "colab": {
          "base_uri": "https://localhost:8080/"
        },
        "id": "NMSyLVMzMErD",
        "outputId": "c47e4813-8f88-4577-b721-6a0f87bcda13"
      },
      "source": [
        "#3 다양한 연산자 사용하기\n",
        "var1 = 10\n",
        "var2 = 20\n",
        "\n",
        "print(var1 + var2)\n",
        "print(var1 * var2)\n",
        "print(var1 / var2)"
      ],
      "execution_count": null,
      "outputs": [
        {
          "output_type": "stream",
          "text": [
            "30\n",
            "200\n",
            "0.5\n"
          ],
          "name": "stdout"
        }
      ]
    },
    {
      "cell_type": "code",
      "metadata": {
        "colab": {
          "base_uri": "https://localhost:8080/"
        },
        "id": "gRn13dRcM85j",
        "outputId": "7454773a-6374-4145-8dca-9fd8c4c72368"
      },
      "source": [
        "#4 % 연산자 활용하기 나머지 구하기\n",
        "var5 = 3\n",
        "var6 = 14\n",
        "print(var6 % var5)"
      ],
      "execution_count": null,
      "outputs": [
        {
          "output_type": "stream",
          "text": [
            "2\n"
          ],
          "name": "stdout"
        }
      ]
    },
    {
      "cell_type": "code",
      "metadata": {
        "colab": {
          "base_uri": "https://localhost:8080/"
        },
        "id": "wYrB3GWKNFLR",
        "outputId": "b3654112-5b91-480c-9546-fc58519c587a"
      },
      "source": [
        "#5 print() 함수 사용하기\n",
        "\n",
        "# 출력할 문장을 직접쓰기\n",
        "print(\"메롱\")\n",
        "# 출력한 문장을 변수에 넣고 변수값 출력하기\n",
        "str =\"메메롱롱\"\n",
        "print(str)"
      ],
      "execution_count": null,
      "outputs": [
        {
          "output_type": "stream",
          "text": [
            "메롱\n",
            "메메롱롱\n"
          ],
          "name": "stdout"
        }
      ]
    },
    {
      "cell_type": "code",
      "metadata": {
        "colab": {
          "base_uri": "https://localhost:8080/"
        },
        "id": "Tacx5yLzNbc0",
        "outputId": "791f14f7-7a0a-4a4d-8805-ff92615d0f05"
      },
      "source": [
        "# 리터럴 문자와 함께 사용하기\n",
        "hungry = 5\n",
        "print('배가 무지 고파서 밥을 %s 그릇도 먹겠네!' %hungry)"
      ],
      "execution_count": null,
      "outputs": [
        {
          "output_type": "stream",
          "text": [
            "배가 무지 고파서 밥을 5 그릇도 먹겠네!\n"
          ],
          "name": "stdout"
        }
      ]
    },
    {
      "cell_type": "code",
      "metadata": {
        "colab": {
          "base_uri": "https://localhost:8080/"
        },
        "id": "8EH4UG1-N5Hg",
        "outputId": "b79b1a84-3e34-4bb0-d7a8-8d2b7dd1f0da"
      },
      "source": [
        "# %d 정수, %f 실수, %s 문자열, %c 문자하나\n",
        "# 특수 문자와 함께 사용해야할 경우 %를 사용해야하는경우 %% 를 두개 사용\n",
        "hungry = 5\n",
        "print('배가 무지 고파서 밥을 %f %%나 더먹었어' %hungry)"
      ],
      "execution_count": null,
      "outputs": [
        {
          "output_type": "stream",
          "text": [
            "배가 무지 고파서 밥을 5.000000 %나 더먹었어\n"
          ],
          "name": "stdout"
        }
      ]
    },
    {
      "cell_type": "code",
      "metadata": {
        "colab": {
          "base_uri": "https://localhost:8080/"
        },
        "id": "VxwBXZqCOilL",
        "outputId": "b4df85a8-a633-4ef4-d7f2-29f41ab45042"
      },
      "source": [
        "# 여러개의 변수를 한꺼번에 사용할 경우\n",
        "up = 20\n",
        "sal= 10\n",
        "\n",
        "print('[뉴스에서 물가는 %s %%오른다는데 내 월급도 %s %%라도 ...' %(up, sal))"
      ],
      "execution_count": null,
      "outputs": [
        {
          "output_type": "stream",
          "text": [
            "[뉴스에서 물가는 20 %오른다는데 내 월급도 10 %라도 ...\n"
          ],
          "name": "stdout"
        }
      ]
    },
    {
      "cell_type": "code",
      "metadata": {
        "colab": {
          "base_uri": "https://localhost:8080/"
        },
        "id": "jKiigh0FREit",
        "outputId": "a147f93b-3bf4-4095-c26b-548aaa42dd56"
      },
      "source": [
        "# input()함수로 정보 입력받기\n",
        "txt1 = input()"
      ],
      "execution_count": null,
      "outputs": [
        {
          "output_type": "stream",
          "text": [
            "짜장면\n"
          ],
          "name": "stdout"
        }
      ]
    },
    {
      "cell_type": "code",
      "metadata": {
        "colab": {
          "base_uri": "https://localhost:8080/"
        },
        "id": "aN8XEDL3RfmM",
        "outputId": "36df0a7f-86cd-4c67-b6fa-772ea5c9947d"
      },
      "source": [
        "# input()안내 멘트 보이기\n",
        "txt1 = input('점심 뭐 드셨어요?')"
      ],
      "execution_count": null,
      "outputs": [
        {
          "output_type": "stream",
          "text": [
            "점심 뭐 드셨어요?짬뽕\n"
          ],
          "name": "stdout"
        }
      ]
    },
    {
      "cell_type": "code",
      "metadata": {
        "colab": {
          "base_uri": "https://localhost:8080/"
        },
        "id": "DJwmt4z7RqAL",
        "outputId": "27c102ef-9890-4f65-ee8e-2f7f0fb86a82"
      },
      "source": [
        "# 출력 되는 양식을 지정하여 정보를 입력받기\n",
        "area_no = input('''\n",
        "1. 서울 2. 대전 3.대구 4. 광주\n",
        "\n",
        "위지역중에서 정보를 조회할 지역은?''')"
      ],
      "execution_count": null,
      "outputs": [
        {
          "output_type": "stream",
          "text": [
            "\n",
            "1. 서울 2. 대전 3.대구 4. 광주\n",
            "\n",
            "위지역중에서 정보를 조회할 지역은?대구\n"
          ],
          "name": "stdout"
        }
      ]
    },
    {
      "cell_type": "code",
      "metadata": {
        "colab": {
          "base_uri": "https://localhost:8080/"
        },
        "id": "0q1eCTNDSKSD",
        "outputId": "6d335e9f-7d8e-4cd1-b2fa-1d13115419ca"
      },
      "source": [
        "menu1 = input('첫번째 주문할 음식은?')\n",
        "menu2 = input('두번째 주문할 음식은?')\n",
        "print('첫번째 주문한 음식은 %s 이고 두번째 주문한 음식은 %s 입니다.' %(menu1, menu2))"
      ],
      "execution_count": null,
      "outputs": [
        {
          "output_type": "stream",
          "text": [
            "첫번째 주문할 음식은?된장\n",
            "두번째 주문할 음식은?고추장\n",
            "첫번째 주문한 음식은 된장 이고 두번째 주문한 음식은 고추장 입니다.\n"
          ],
          "name": "stdout"
        }
      ]
    },
    {
      "cell_type": "code",
      "metadata": {
        "colab": {
          "base_uri": "https://localhost:8080/"
        },
        "id": "YmOyg_1HSmAr",
        "outputId": "ad2d9d99-d602-4503-cd49-0b1a0e6448b5"
      },
      "source": [
        "menu3 = input('''\n",
        "1.짜장면 2.울면 3.짬봉 4.깐풍기 5.칠리새우\n",
        "\n",
        "위 메뉴중 주문할 메뉴의 번호를 입력하세요.\n",
        "''')\n",
        "menu4 = input('메뉴의 주문 수량을 입력하세요')\n",
        "print('주문하신 메뉴 번호는 %s 이고 주문 수량은 %s개 입니다.' %(menu3, menu4)) \n"
      ],
      "execution_count": null,
      "outputs": [
        {
          "output_type": "stream",
          "text": [
            "\n",
            "1.짜장면 2.울면 3.짬봉 4.깐풍기 5.칠리새우\n",
            "\n",
            "위 메뉴중 주문할 메뉴의 번호를 입력하세요.\n",
            "3\n",
            "메뉴의 주문 수량을 입력하세요2\n",
            "주문하신 메뉴 번호는 3 이고 주문 수량은 2개 입니다.\n"
          ],
          "name": "stdout"
        }
      ]
    },
    {
      "cell_type": "code",
      "metadata": {
        "colab": {
          "base_uri": "https://localhost:8080/"
        },
        "id": "5kyIXNW1Tt2e",
        "outputId": "0c5906ae-0416-46e4-fd3f-7bd17fc6a2ca"
      },
      "source": [
        "# 연산자 사용 방법 j-=3(j=j-3), j*=3(j=j*3), j/=3(j=j/3)\n",
        "i = 0\n",
        "i = i + 2\n",
        "print(\"i에 저장된 값은 %s 입니다.\" %i)\n",
        "\n",
        "j = 0\n",
        "j += 3\n",
        "print(\"j에 저장된 값은 %s 입니다.\" %j)\n"
      ],
      "execution_count": null,
      "outputs": [
        {
          "output_type": "stream",
          "text": [
            "i에 저장된 값은 2 입니다.\n",
            "j에 저장된 값은 3 입니다.\n"
          ],
          "name": "stdout"
        }
      ]
    },
    {
      "cell_type": "code",
      "metadata": {
        "colab": {
          "base_uri": "https://localhost:8080/"
        },
        "id": "ACGwfLT6bBdQ",
        "outputId": "a2510eae-5364-43af-9fd5-9b3a99e9f8db"
      },
      "source": [
        "# 정수형으로 변환하기 - 변환하기 전\n",
        "no1 = input(\"첫번째 숫자 입력:\")\n",
        "no2 = input(\"두번째 숫자 입력:\")\n",
        "print('''\n",
        "첫번째 숫자는 %s 이고 두번재 숫자는 %s이며 두 숫자의 합은 %s 입니다.''' %(no1, no2, no1+no2))"
      ],
      "execution_count": null,
      "outputs": [
        {
          "output_type": "stream",
          "text": [
            "첫번째 숫자 입력:1\n",
            "두번째 숫자 입력:2\n",
            "\n",
            "첫번째 숫자는 1 이고 두번재 숫자는 2이며 두 숫자의 합은 3 입니다.\n"
          ],
          "name": "stdout"
        }
      ]
    },
    {
      "cell_type": "code",
      "metadata": {
        "colab": {
          "base_uri": "https://localhost:8080/"
        },
        "id": "dAp1hoj4b6HC",
        "outputId": "c4492839-2cb5-424e-d43b-11c02ec4905c"
      },
      "source": [
        "# 정수형으로 변환하기 - 변환 후\n",
        "no1 = int(input(\"첫번째 숫자 입력:\"))\n",
        "no2 = int(input(\"두번째 숫자 입력:\"))\n",
        "print('''\n",
        "첫번째 숫자는 %s 이고 두번재 숫자는 %s이며 두 숫자의 합은 %s 입니다.''' %(no1, no2, no1+no2))\n"
      ],
      "execution_count": null,
      "outputs": [
        {
          "output_type": "stream",
          "text": [
            "첫번째 숫자 입력:1\n",
            "두번째 숫자 입력:2\n",
            "\n",
            "첫번째 숫자는 1 이고 두번재 숫자는 2이며 두 숫자의 합은 3 입니다.\n"
          ],
          "name": "stdout"
        }
      ]
    },
    {
      "cell_type": "code",
      "metadata": {
        "colab": {
          "base_uri": "https://localhost:8080/"
        },
        "id": "p2galstTegII",
        "outputId": "95317d9d-ca37-4b83-9476-08bf81524697"
      },
      "source": [
        "#실수형 숫자 타입\n",
        "\n",
        "print(\"정수형 숫자 타입\", int(1))\n",
        "print(\"정수형 숫자 타입\", float(1.0))"
      ],
      "execution_count": null,
      "outputs": [
        {
          "output_type": "stream",
          "text": [
            "정수형 숫자 타입 1\n",
            "정수형 숫자 타입 1.0\n"
          ],
          "name": "stdout"
        }
      ]
    },
    {
      "cell_type": "code",
      "metadata": {
        "colab": {
          "base_uri": "https://localhost:8080/"
        },
        "id": "ZfUGHBZCe5dl",
        "outputId": "448a7574-5b1c-4286-e01a-b3f19fad4cbf"
      },
      "source": [
        "# 숫자 타입에서 많이 사용되는 주요 함수\n",
        "# round() 반올림 함수\n",
        "\n",
        "no1 = 13.45678\n",
        "no2 = 3.56789\n",
        "print(\"원래값 : %s, 반올림후 값 : %s\" %(no1, round(no1)))\n",
        "print(\"원래값 : %s, 반올림후 값 : %s\" %(no2, round(no2)))"
      ],
      "execution_count": null,
      "outputs": [
        {
          "output_type": "stream",
          "text": [
            "원래값 : 13.45678, 반올림후 값 : 13\n",
            "원래값 : 3.56789, 반올림후 값 : 4\n"
          ],
          "name": "stdout"
        }
      ]
    },
    {
      "cell_type": "code",
      "metadata": {
        "colab": {
          "base_uri": "https://localhost:8080/"
        },
        "id": "5-FV3txLfY2t",
        "outputId": "bacb0bb0-9138-4d44-c7db-c2edc850493c"
      },
      "source": [
        "# 숫자 타입에서 많이 사용되는 주요 함수\n",
        "# round() 반올림 함수 - 소수점 이하 자리수 지정\n",
        "\n",
        "no1 = 2\n",
        "no2 = 3\n",
        "print(\"반올림 전 원래 값 : \", no1 / no2)\n",
        "print(\"소수 첫째 자리까지 반올림 하기\", round(no1 / no2, 1))\n",
        "print(\"소수 첫째 자리까지 반올림 하기\", round(no1 / no2, 2))"
      ],
      "execution_count": null,
      "outputs": [
        {
          "output_type": "stream",
          "text": [
            "반올림 전 원래 값 :  0.6666666666666666\n",
            "소수 첫째 자리까지 반올림 하기 0.7\n",
            "소수 첫째 자리까지 반올림 하기 0.67\n"
          ],
          "name": "stdout"
        }
      ]
    },
    {
      "cell_type": "code",
      "metadata": {
        "id": "hr6IzPo1h-PY",
        "colab": {
          "base_uri": "https://localhost:8080/"
        },
        "outputId": "ad53f24e-be66-4b02-efa2-8059d1d0dc9b"
      },
      "source": [
        "# 숫자 타입에서 많이 사용되는 주요 함수\n",
        "# trunc() 버림 함수\n",
        "import math # <- math, numpy 모듈에 있는 버림함수 trunc\n",
        "\n",
        "no1 = 3\n",
        "no2 = 5\n",
        "print(\"버림하기 전 원래 값:\" , no1 / no2)\n",
        "print(\"버림하기 전 원래 값:\" , math.trunc(no1 / no2))"
      ],
      "execution_count": 53,
      "outputs": [
        {
          "output_type": "stream",
          "text": [
            "버림하기 전 원래 값: 0.6\n",
            "버림하기 전 원래 값: 0\n"
          ],
          "name": "stdout"
        }
      ]
    },
    {
      "cell_type": "code",
      "metadata": {
        "colab": {
          "base_uri": "https://localhost:8080/"
        },
        "id": "905CAdfhibdj",
        "outputId": "24cae64c-29d6-43a1-bdfd-656a58795426"
      },
      "source": [
        "# 숫자 타입에서 많이 사용되는 주요함수\n",
        "# 큰 정수 찾기 함수 ceil()\n",
        "\n",
        "cnt=int(input(\"총 몇 건의 데이터를 수집할까요?\"))\n",
        "# 한 페이지에 15건의 게시물이 있다고 가정하고 계산\n",
        "page_cnt = math.ceil( cnt / 15)\n",
        "print(\"총 %s 페이지까지 데이터를 수집해야 합니다.\" %page_cnt)"
      ],
      "execution_count": 57,
      "outputs": [
        {
          "output_type": "stream",
          "text": [
            "총 몇 건의 데이터를 수집할까요?50\n",
            "총 4 페이지까지 데이터를 수집해야 합니다.\n"
          ],
          "name": "stdout"
        }
      ]
    },
    {
      "cell_type": "code",
      "metadata": {
        "colab": {
          "base_uri": "https://localhost:8080/"
        },
        "id": "ZwRib9VZjuoF",
        "outputId": "82a53eea-bc09-461f-8808-081cc229d53d"
      },
      "source": [
        "# floor() - 작은 정수 찾기\n",
        "import math\n",
        "\n",
        "no1 = 4.9\n",
        "no2 = 2.1\n",
        "\n",
        "print(\"%s 보다 작으면서 가장 가까운 정수는 %s 입니다.\" %(no1, math.floor(no1)))\n",
        "print(\"%s 보다 작으면서 가장 가까운 정수는 %s 입니다.\" %(no2, math.floor(no2)))"
      ],
      "execution_count": 59,
      "outputs": [
        {
          "output_type": "stream",
          "text": [
            "4.9 보다 작으면서 가장 가까운 정수는 4 입니다.\n",
            "2.1 보다 작으면서 가장 가까운 정수는 2 입니다.\n"
          ],
          "name": "stdout"
        }
      ]
    },
    {
      "cell_type": "code",
      "metadata": {
        "id": "7ohgADMvkibx"
      },
      "source": [
        ""
      ],
      "execution_count": null,
      "outputs": []
    }
  ]
}